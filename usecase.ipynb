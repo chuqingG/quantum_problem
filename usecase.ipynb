{
 "cells": [
  {
   "cell_type": "code",
   "execution_count": 1,
   "metadata": {},
   "outputs": [],
   "source": [
    "import numpy as np\n",
    "from gates import *\n",
    "from utils import *\n",
    "from scipy.stats import unitary_group\n",
    "\n",
    "np.set_printoptions(suppress=True)"
   ]
  },
  {
   "cell_type": "markdown",
   "metadata": {},
   "source": [
    "## 1. Decompose 2-qubit gate to 2 single-qubit gates\n",
    "\n",
    "All single-qubit gates are represented in u3 form."
   ]
  },
  {
   "cell_type": "code",
   "execution_count": 9,
   "metadata": {},
   "outputs": [
    {
     "name": "stdout",
     "output_type": "stream",
     "text": [
      "   ┌──────────────────────┐\n",
      "q0:┤ U3(2.05,-2.36,-3.79) ├\n",
      "   └──────────────────────┘\n",
      "   ┌────────────────────┐  \n",
      "q1:┤ U3(0.93,5.07,1.01) ├──\n",
      "   └────────────────────┘  \n"
     ]
    }
   ],
   "source": [
    "# take a decomposable door as an example first\n",
    "a = unitary_group.rvs(2)\n",
    "b = unitary_group.rvs(2)\n",
    "G1 = np.kron(a,b)\n",
    "g = Gate(G1, 'G1')\n",
    "g.decompose('two_single')\n",
    "g.print_gates()"
   ]
  },
  {
   "cell_type": "code",
   "execution_count": 10,
   "metadata": {},
   "outputs": [
    {
     "name": "stdout",
     "output_type": "stream",
     "text": [
      "\u001b[94m[Warn]\u001b[0m Only approximate decomposition\n",
      "   ┌─────────────────────┐\n",
      "q0:┤ U3(1.82,2.52,-3.66) ├\n",
      "   └─────────────────────┘\n",
      "   ┌─────────────────────┐\n",
      "q1:┤ U3(2.60,-3.49,0.83) ├\n",
      "   └─────────────────────┘\n"
     ]
    }
   ],
   "source": [
    "# use an arbitrary unitary matrix\n",
    "G2 = unitary_group.rvs(4)\n",
    "g = Gate(G2, 'G2')\n",
    "g.decompose('two_single')\n",
    "g.print_gates()"
   ]
  },
  {
   "cell_type": "code",
   "execution_count": 4,
   "metadata": {},
   "outputs": [
    {
     "name": "stdout",
     "output_type": "stream",
     "text": [
      " 0: 1:\u001b[94m[Warn]\u001b[0m Cannot be decomposed to two 1-qubit gates\n",
      " 2:\u001b[94m[Warn]\u001b[0m Cannot be decomposed to two 1-qubit gates\n",
      " 3:\u001b[94m[Warn]\u001b[0m Cannot be decomposed to two 1-qubit gates\n",
      " 4:\u001b[94m[Warn]\u001b[0m Cannot be decomposed to two 1-qubit gates\n",
      " 5:\u001b[94m[Warn]\u001b[0m Cannot be decomposed to two 1-qubit gates\n",
      " 6:\u001b[94m[Warn]\u001b[0m Cannot be decomposed to two 1-qubit gates\n",
      " 7: 8:\u001b[94m[Warn]\u001b[0m Cannot be decomposed to two 1-qubit gates\n",
      " 9:\u001b[94m[Warn]\u001b[0m Cannot be decomposed to two 1-qubit gates\n",
      "10:\u001b[94m[Warn]\u001b[0m Cannot be decomposed to two 1-qubit gates\n",
      "11:\u001b[94m[Warn]\u001b[0m Cannot be decomposed to two 1-qubit gates\n",
      "12:\u001b[94m[Warn]\u001b[0m Cannot be decomposed to two 1-qubit gates\n",
      "13:\u001b[94m[Warn]\u001b[0m Cannot be decomposed to two 1-qubit gates\n",
      "14:\u001b[94m[Warn]\u001b[0m Cannot be decomposed to two 1-qubit gates\n",
      "15:\u001b[94m[Warn]\u001b[0m Cannot be decomposed to two 1-qubit gates\n",
      "16:17:\u001b[94m[Warn]\u001b[0m Cannot be decomposed to two 1-qubit gates\n",
      "18:\u001b[94m[Warn]\u001b[0m Cannot be decomposed to two 1-qubit gates\n",
      "19:\u001b[94m[Warn]\u001b[0m Cannot be decomposed to two 1-qubit gates\n",
      "20:\u001b[94m[Warn]\u001b[0m Cannot be decomposed to two 1-qubit gates\n",
      "21:\u001b[94m[Warn]\u001b[0m Cannot be decomposed to two 1-qubit gates\n",
      "22:\u001b[94m[Warn]\u001b[0m Cannot be decomposed to two 1-qubit gates\n",
      "23:"
     ]
    }
   ],
   "source": [
    "# test all 0-1 unitary matrix\n",
    "inputs = generate_input()\n",
    "for i, m in enumerate(inputs):\n",
    "    print(\"%2d\" % i, end=':')\n",
    "    g = Gate(m, 'M')\n",
    "    g.decompose('two_single')"
   ]
  },
  {
   "cell_type": "markdown",
   "metadata": {},
   "source": [
    "### 2. Check if the input two-qubit gate is a SWAP gate"
   ]
  },
  {
   "cell_type": "code",
   "execution_count": 5,
   "metadata": {},
   "outputs": [
    {
     "name": "stdout",
     "output_type": "stream",
     "text": [
      "False\n",
      "True\n"
     ]
    }
   ],
   "source": [
    "X1 = np.eye(4)\n",
    "X2 = X1[:,[0,2,1,3]]\n",
    "g1 = Gate(X1, 'X1')\n",
    "g2 = Gate(X2, 'X2')\n",
    "print(g1.is_swap())\n",
    "print(g2.is_swap())"
   ]
  },
  {
   "cell_type": "markdown",
   "metadata": {},
   "source": [
    "### 3. Detect if the input two-qubit gate is a Control-U gate\n",
    "Single-qubit gates are represented in the form of U3 gates"
   ]
  },
  {
   "cell_type": "code",
   "execution_count": 6,
   "metadata": {},
   "outputs": [
    {
     "name": "stdout",
     "output_type": "stream",
     "text": [
      "                                                ┌───────────┐           \n",
      "q0:──────────────o───────────────────────────o──┤ Rz(-0.32) ├───────────\n",
      "                 │                           │  └───────────┘           \n",
      "   ┌──────────┐  │  ┌─────────────────────┐  │  ┌──────────────────────┐\n",
      "q1:┤ Rz(2.36) ├─(+)─┤ U3(3.14,0.45,-1.76) ├─(+)─┤ U3(-3.75,0.45,-0.00) ├\n",
      "   └──────────┘     └─────────────────────┘     └──────────────────────┘\n"
     ]
    }
   ],
   "source": [
    "# construct a control-u\n",
    "b = np.eye(4) * (1+0j)\n",
    "a = unitary_group.rvs(2)\n",
    "b[2:, 2:] = a\n",
    "\n",
    "# decompose and print\n",
    "g = Gate(b, 'G')\n",
    "g.decompose('control_u')\n",
    "g.print_gates()"
   ]
  },
  {
   "cell_type": "markdown",
   "metadata": {},
   "source": [
    "### 4. Decompose arbitrary two-qubit gate"
   ]
  },
  {
   "cell_type": "code",
   "execution_count": 7,
   "metadata": {},
   "outputs": [
    {
     "name": "stdout",
     "output_type": "stream",
     "text": [
      "   ┌──────────────────────┐     ┌─────────────────────┐      ┌────────────────────┐       ┌────────────────────┐ \n",
      "q0:┤ U3(-2.36,0.83,-0.04) ├──o──┤ U3(0.27,1.57,-3.14) ├───o──┤ U3(0.00,1.57,3.14) ├────o──┤ U3(0.22,1.91,0.43) ├─\n",
      "   └──────────────────────┘  │  └─────────────────────┘   │  └────────────────────┘    │  └────────────────────┘ \n",
      "   ┌────────────────────┐    │  ┌──────────────────────┐  │  ┌──────────────────────┐  │  ┌─────────────────────┐\n",
      "q1:┤ U3(0.60,0.31,3.59) ├───(+)─┤ U3(-0.23,0.00,-0.23) ├─(+)─┤ U3(-0.02,0.00,-0.02) ├─(+)─┤ U3(0.89,0.83,-2.63) ├\n",
      "   └────────────────────┘       └──────────────────────┘     └──────────────────────┘     └─────────────────────┘\n"
     ]
    }
   ],
   "source": [
    "a = unitary_group.rvs(4)\n",
    "g = Gate(a, 'G')\n",
    "g.decompose()\n",
    "g.print_gates()"
   ]
  }
 ],
 "metadata": {
  "interpreter": {
   "hash": "849b4e5907479c032f60aa4356d61ba3b06690fe07dc4a387bac6d5596bb2a76"
  },
  "kernelspec": {
   "display_name": "Python 3.6.5 64-bit ('pytorch': conda)",
   "language": "python",
   "name": "python3"
  },
  "language_info": {
   "codemirror_mode": {
    "name": "ipython",
    "version": 3
   },
   "file_extension": ".py",
   "mimetype": "text/x-python",
   "name": "python",
   "nbconvert_exporter": "python",
   "pygments_lexer": "ipython3",
   "version": "3.6.13"
  },
  "orig_nbformat": 4
 },
 "nbformat": 4,
 "nbformat_minor": 2
}
