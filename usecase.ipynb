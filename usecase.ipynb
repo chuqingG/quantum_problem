{
 "cells": [
  {
   "cell_type": "code",
   "execution_count": 7,
   "metadata": {},
   "outputs": [],
   "source": [
    "import numpy as np\n",
    "from gates import *\n",
    "from utils import *\n",
    "from scipy.stats import unitary_group\n",
    "\n",
    "np.set_printoptions(suppress=True)"
   ]
  },
  {
   "cell_type": "markdown",
   "metadata": {},
   "source": [
    "## 1. Decompose 2-qubit gate to 2 single-qubit gates\n",
    "\n",
    "All single-qubit gates are represented in u3 form."
   ]
  },
  {
   "cell_type": "code",
   "execution_count": 8,
   "metadata": {},
   "outputs": [],
   "source": [
    "# take a decomposable door as an example first\n",
    "a = unitary_group.rvs(2)\n",
    "b = unitary_group.rvs(2)\n",
    "G1 = np.kron(a,b)\n",
    "g = Gate(G1, 'G1')\n",
    "g.decompose('two_single')"
   ]
  },
  {
   "cell_type": "code",
   "execution_count": 9,
   "metadata": {},
   "outputs": [
    {
     "name": "stdout",
     "output_type": "stream",
     "text": [
      "\u001b[94m[Warn]\u001b[0m Only approximate decomposition\n"
     ]
    }
   ],
   "source": [
    "# use an arbitrary unitary matrix\n",
    "G2 = unitary_group.rvs(4)\n",
    "g = Gate(G2, 'G2')\n",
    "g.decompose('two_single')"
   ]
  },
  {
   "cell_type": "code",
   "execution_count": 10,
   "metadata": {},
   "outputs": [
    {
     "name": "stdout",
     "output_type": "stream",
     "text": [
      " 0: 1:\u001b[94m[Warn]\u001b[0m Cannot be decomposed to two 1-qubit gates\n",
      " 2:\u001b[94m[Warn]\u001b[0m Cannot be decomposed to two 1-qubit gates\n",
      " 3:\u001b[94m[Warn]\u001b[0m Cannot be decomposed to two 1-qubit gates\n",
      " 4:\u001b[94m[Warn]\u001b[0m Cannot be decomposed to two 1-qubit gates\n",
      " 5:\u001b[94m[Warn]\u001b[0m Cannot be decomposed to two 1-qubit gates\n",
      " 6:\u001b[94m[Warn]\u001b[0m Cannot be decomposed to two 1-qubit gates\n",
      " 7: 8:\u001b[94m[Warn]\u001b[0m Cannot be decomposed to two 1-qubit gates\n",
      " 9:\u001b[94m[Warn]\u001b[0m Cannot be decomposed to two 1-qubit gates\n",
      "10:\u001b[94m[Warn]\u001b[0m Cannot be decomposed to two 1-qubit gates\n",
      "11:\u001b[94m[Warn]\u001b[0m Cannot be decomposed to two 1-qubit gates\n",
      "12:\u001b[94m[Warn]\u001b[0m Cannot be decomposed to two 1-qubit gates\n",
      "13:\u001b[94m[Warn]\u001b[0m Cannot be decomposed to two 1-qubit gates\n",
      "14:\u001b[94m[Warn]\u001b[0m Cannot be decomposed to two 1-qubit gates\n",
      "15:\u001b[94m[Warn]\u001b[0m Cannot be decomposed to two 1-qubit gates\n",
      "16:17:\u001b[94m[Warn]\u001b[0m Cannot be decomposed to two 1-qubit gates\n",
      "18:\u001b[94m[Warn]\u001b[0m Cannot be decomposed to two 1-qubit gates\n",
      "19:\u001b[94m[Warn]\u001b[0m Cannot be decomposed to two 1-qubit gates\n",
      "20:\u001b[94m[Warn]\u001b[0m Cannot be decomposed to two 1-qubit gates\n",
      "21:\u001b[94m[Warn]\u001b[0m Cannot be decomposed to two 1-qubit gates\n",
      "22:\u001b[94m[Warn]\u001b[0m Cannot be decomposed to two 1-qubit gates\n",
      "23:"
     ]
    }
   ],
   "source": [
    "# test all 0-1 unitary matrix\n",
    "inputs = generate_input()\n",
    "for i, m in enumerate(inputs):\n",
    "    print(\"%2d\" % i, end=':')\n",
    "    g = Gate(m, 'M')\n",
    "    g.decompose('two_single')"
   ]
  },
  {
   "cell_type": "markdown",
   "metadata": {},
   "source": [
    "### 2. Check if the input two-qubit gate is a SWAP gate"
   ]
  },
  {
   "cell_type": "code",
   "execution_count": 11,
   "metadata": {},
   "outputs": [
    {
     "name": "stdout",
     "output_type": "stream",
     "text": [
      "False\n",
      "True\n"
     ]
    }
   ],
   "source": [
    "X1 = np.eye(4)\n",
    "X2 = X1[:,[0,2,1,3]]\n",
    "g1 = Gate(X1, 'X1')\n",
    "g2 = Gate(X2, 'X2')\n",
    "print(g1.is_swap())\n",
    "print(g2.is_swap())"
   ]
  },
  {
   "cell_type": "markdown",
   "metadata": {},
   "source": [
    "### 3. Detect if the input two-qubit gate is a Control-U gate\n",
    "Single-qubit gates are represented in the form of U3 gates"
   ]
  },
  {
   "cell_type": "code",
   "execution_count": 12,
   "metadata": {},
   "outputs": [
    {
     "name": "stdout",
     "output_type": "stream",
     "text": [
      "                                                                       ┌───────────┐\n",
      "q0:───────────────o───────────────────────────o────────────────────────┤ Rz(-0.06) ├\n",
      "                  │                           │                        └───────────┘\n",
      "   ┌───────────┐  │  ┌─────────────────────┐  │  ┌────────────────────┐             \n",
      "q1:┤ Rz(-2.33) ├─(+)─┤ U3(-3.14,1.11,0.07) ├─(+)─┤ U3(5.40,1.11,0.00) ├─────────────\n",
      "   └───────────┘     └─────────────────────┘     └────────────────────┘             \n"
     ]
    }
   ],
   "source": [
    "# construct a control-u\n",
    "b = np.eye(4) * (1+0j)\n",
    "a = unitary_group.rvs(2)\n",
    "b[2:, 2:] = a\n",
    "\n",
    "# decompose and print\n",
    "g = Gate(b, 'G')\n",
    "g.decompose('control_u')\n",
    "g.print_gates()"
   ]
  }
 ],
 "metadata": {
  "interpreter": {
   "hash": "849b4e5907479c032f60aa4356d61ba3b06690fe07dc4a387bac6d5596bb2a76"
  },
  "kernelspec": {
   "display_name": "Python 3.6.5 64-bit ('pytorch': conda)",
   "language": "python",
   "name": "python3"
  },
  "language_info": {
   "codemirror_mode": {
    "name": "ipython",
    "version": 3
   },
   "file_extension": ".py",
   "mimetype": "text/x-python",
   "name": "python",
   "nbconvert_exporter": "python",
   "pygments_lexer": "ipython3",
   "version": "3.6.5"
  },
  "orig_nbformat": 4
 },
 "nbformat": 4,
 "nbformat_minor": 2
}
