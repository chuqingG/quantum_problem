{
 "cells": [
  {
   "cell_type": "code",
   "execution_count": 1,
   "metadata": {},
   "outputs": [
    {
     "ename": "ImportError",
     "evalue": "cannot import name 'GateBuilder'",
     "output_type": "error",
     "traceback": [
      "\u001b[0;31m---------------------------------------------------------------------------\u001b[0m",
      "\u001b[0;31mImportError\u001b[0m                               Traceback (most recent call last)",
      "\u001b[0;32m<ipython-input-1-330233acd6d5>\u001b[0m in \u001b[0;36m<module>\u001b[0;34m\u001b[0m\n\u001b[1;32m      1\u001b[0m \u001b[0;32mimport\u001b[0m \u001b[0mnumpy\u001b[0m \u001b[0;32mas\u001b[0m \u001b[0mnp\u001b[0m\u001b[0;34m\u001b[0m\u001b[0;34m\u001b[0m\u001b[0m\n\u001b[0;32m----> 2\u001b[0;31m \u001b[0;32mfrom\u001b[0m \u001b[0mgates\u001b[0m \u001b[0;32mimport\u001b[0m \u001b[0;34m*\u001b[0m\u001b[0;34m\u001b[0m\u001b[0;34m\u001b[0m\u001b[0m\n\u001b[0m\u001b[1;32m      3\u001b[0m \u001b[0;32mfrom\u001b[0m \u001b[0mutils\u001b[0m \u001b[0;32mimport\u001b[0m \u001b[0;34m*\u001b[0m\u001b[0;34m\u001b[0m\u001b[0;34m\u001b[0m\u001b[0m\n\u001b[1;32m      4\u001b[0m \u001b[0;32mfrom\u001b[0m \u001b[0mscipy\u001b[0m\u001b[0;34m.\u001b[0m\u001b[0mstats\u001b[0m \u001b[0;32mimport\u001b[0m \u001b[0munitary_group\u001b[0m\u001b[0;34m\u001b[0m\u001b[0;34m\u001b[0m\u001b[0m\n\u001b[1;32m      5\u001b[0m \u001b[0;34m\u001b[0m\u001b[0m\n",
      "\u001b[0;32m~/quantum_problem/gates.py\u001b[0m in \u001b[0;36m<module>\u001b[0;34m\u001b[0m\n\u001b[0;32m----> 1\u001b[0;31m \u001b[0;32mfrom\u001b[0m \u001b[0mutils\u001b[0m \u001b[0;32mimport\u001b[0m \u001b[0;34m*\u001b[0m\u001b[0;34m\u001b[0m\u001b[0;34m\u001b[0m\u001b[0m\n\u001b[0m\u001b[1;32m      2\u001b[0m \u001b[0;34m\u001b[0m\u001b[0m\n\u001b[1;32m      3\u001b[0m \u001b[0;32mimport\u001b[0m \u001b[0mnumpy\u001b[0m \u001b[0;32mas\u001b[0m \u001b[0mnp\u001b[0m\u001b[0;34m\u001b[0m\u001b[0;34m\u001b[0m\u001b[0m\n\u001b[1;32m      4\u001b[0m \u001b[0;32mfrom\u001b[0m \u001b[0menum\u001b[0m \u001b[0;32mimport\u001b[0m \u001b[0mEnum\u001b[0m\u001b[0;34m\u001b[0m\u001b[0;34m\u001b[0m\u001b[0m\n\u001b[1;32m      5\u001b[0m \u001b[0;32mfrom\u001b[0m \u001b[0mmath\u001b[0m \u001b[0;32mimport\u001b[0m \u001b[0macos\u001b[0m\u001b[0;34m,\u001b[0m \u001b[0masin\u001b[0m\u001b[0;34m,\u001b[0m \u001b[0mlog\u001b[0m\u001b[0;34m,\u001b[0m \u001b[0matan2\u001b[0m\u001b[0;34m\u001b[0m\u001b[0;34m\u001b[0m\u001b[0m\n",
      "\u001b[0;32m~/quantum_problem/utils.py\u001b[0m in \u001b[0;36m<module>\u001b[0;34m\u001b[0m\n\u001b[1;32m      3\u001b[0m \u001b[0;32mfrom\u001b[0m \u001b[0mscipy\u001b[0m\u001b[0;34m.\u001b[0m\u001b[0mlinalg\u001b[0m \u001b[0;32mimport\u001b[0m \u001b[0mexpm\u001b[0m\u001b[0;34m,\u001b[0m \u001b[0mdet\u001b[0m\u001b[0;34m\u001b[0m\u001b[0;34m\u001b[0m\u001b[0m\n\u001b[1;32m      4\u001b[0m \u001b[0;32mfrom\u001b[0m \u001b[0mitertools\u001b[0m \u001b[0;32mimport\u001b[0m \u001b[0mpermutations\u001b[0m\u001b[0;34m\u001b[0m\u001b[0;34m\u001b[0m\u001b[0m\n\u001b[0;32m----> 5\u001b[0;31m \u001b[0;32mfrom\u001b[0m \u001b[0mgates\u001b[0m \u001b[0;32mimport\u001b[0m \u001b[0mGateBuilder\u001b[0m\u001b[0;34m\u001b[0m\u001b[0;34m\u001b[0m\u001b[0m\n\u001b[0m\u001b[1;32m      6\u001b[0m \u001b[0;34m\u001b[0m\u001b[0m\n\u001b[1;32m      7\u001b[0m \u001b[0;34m\u001b[0m\u001b[0m\n",
      "\u001b[0;31mImportError\u001b[0m: cannot import name 'GateBuilder'"
     ]
    }
   ],
   "source": [
    "import numpy as np\n",
    "from gates import *\n",
    "from utils import *\n",
    "from scipy.stats import unitary_group\n",
    "\n",
    "np.set_printoptions(suppress=True)"
   ]
  },
  {
   "cell_type": "markdown",
   "metadata": {},
   "source": [
    "## 1. Decompose 2-qubit gate to 2 single-qubit gates\n",
    "\n",
    "All single-qubit gates are represented in u3 form."
   ]
  },
  {
   "cell_type": "code",
   "execution_count": null,
   "metadata": {},
   "outputs": [
    {
     "ename": "AttributeError",
     "evalue": "'GateBuilder' object has no attribute 'arr_to_u3'",
     "output_type": "error",
     "traceback": [
      "\u001b[0;31m---------------------------------------------------------------------------\u001b[0m",
      "\u001b[0;31mAttributeError\u001b[0m                            Traceback (most recent call last)",
      "\u001b[0;32m<ipython-input-2-67b0153d0f38>\u001b[0m in \u001b[0;36m<module>\u001b[0;34m\u001b[0m\n\u001b[1;32m      4\u001b[0m \u001b[0mG1\u001b[0m \u001b[0;34m=\u001b[0m \u001b[0mnp\u001b[0m\u001b[0;34m.\u001b[0m\u001b[0mkron\u001b[0m\u001b[0;34m(\u001b[0m\u001b[0ma\u001b[0m\u001b[0;34m,\u001b[0m\u001b[0mb\u001b[0m\u001b[0;34m)\u001b[0m\u001b[0;34m\u001b[0m\u001b[0;34m\u001b[0m\u001b[0m\n\u001b[1;32m      5\u001b[0m \u001b[0mg\u001b[0m \u001b[0;34m=\u001b[0m \u001b[0mGate\u001b[0m\u001b[0;34m(\u001b[0m\u001b[0mG1\u001b[0m\u001b[0;34m,\u001b[0m \u001b[0;34m'G1'\u001b[0m\u001b[0;34m)\u001b[0m\u001b[0;34m\u001b[0m\u001b[0;34m\u001b[0m\u001b[0m\n\u001b[0;32m----> 6\u001b[0;31m \u001b[0mg\u001b[0m\u001b[0;34m.\u001b[0m\u001b[0mdecompose\u001b[0m\u001b[0;34m(\u001b[0m\u001b[0;34m'two_single'\u001b[0m\u001b[0;34m)\u001b[0m\u001b[0;34m\u001b[0m\u001b[0;34m\u001b[0m\u001b[0m\n\u001b[0m",
      "\u001b[0;32m~/quantum_problem/gates.py\u001b[0m in \u001b[0;36mdecompose\u001b[0;34m(self, option)\u001b[0m\n\u001b[1;32m    184\u001b[0m         \u001b[0;32mif\u001b[0m \u001b[0moption\u001b[0m \u001b[0;34m==\u001b[0m \u001b[0;34m'two_single'\u001b[0m\u001b[0;34m:\u001b[0m\u001b[0;34m\u001b[0m\u001b[0;34m\u001b[0m\u001b[0m\n\u001b[1;32m    185\u001b[0m             \u001b[0mmatrixs\u001b[0m \u001b[0;34m=\u001b[0m \u001b[0mproduct_decomp_SVD\u001b[0m\u001b[0;34m(\u001b[0m\u001b[0mself\u001b[0m\u001b[0;34m.\u001b[0m\u001b[0mvalue\u001b[0m\u001b[0;34m)\u001b[0m\u001b[0;34m\u001b[0m\u001b[0;34m\u001b[0m\u001b[0m\n\u001b[0;32m--> 186\u001b[0;31m             \u001b[0mgates\u001b[0m \u001b[0;34m=\u001b[0m \u001b[0;34m[\u001b[0m\u001b[0mgb\u001b[0m\u001b[0;34m.\u001b[0m\u001b[0marr_to_u3\u001b[0m\u001b[0;34m(\u001b[0m\u001b[0mm\u001b[0m\u001b[0;34m,\u001b[0m \u001b[0mi\u001b[0m\u001b[0;34m)\u001b[0m \u001b[0;32mfor\u001b[0m \u001b[0mi\u001b[0m\u001b[0;34m,\u001b[0m \u001b[0mm\u001b[0m \u001b[0;32min\u001b[0m \u001b[0menumerate\u001b[0m\u001b[0;34m(\u001b[0m\u001b[0mmatrixs\u001b[0m\u001b[0;34m)\u001b[0m\u001b[0;34m]\u001b[0m\u001b[0;34m\u001b[0m\u001b[0;34m\u001b[0m\u001b[0m\n\u001b[0m\u001b[1;32m    187\u001b[0m             \u001b[0;32mif\u001b[0m \u001b[0;32mNone\u001b[0m \u001b[0;32min\u001b[0m \u001b[0mgates\u001b[0m\u001b[0;34m:\u001b[0m\u001b[0;34m\u001b[0m\u001b[0;34m\u001b[0m\u001b[0m\n\u001b[1;32m    188\u001b[0m                 \u001b[0mwarning_out\u001b[0m\u001b[0;34m(\u001b[0m\u001b[0;34m\"Cannot be decomposed to two 1-qubit gates\"\u001b[0m\u001b[0;34m)\u001b[0m\u001b[0;34m\u001b[0m\u001b[0;34m\u001b[0m\u001b[0m\n",
      "\u001b[0;32m~/quantum_problem/gates.py\u001b[0m in \u001b[0;36m<listcomp>\u001b[0;34m(.0)\u001b[0m\n\u001b[1;32m    184\u001b[0m         \u001b[0;32mif\u001b[0m \u001b[0moption\u001b[0m \u001b[0;34m==\u001b[0m \u001b[0;34m'two_single'\u001b[0m\u001b[0;34m:\u001b[0m\u001b[0;34m\u001b[0m\u001b[0;34m\u001b[0m\u001b[0m\n\u001b[1;32m    185\u001b[0m             \u001b[0mmatrixs\u001b[0m \u001b[0;34m=\u001b[0m \u001b[0mproduct_decomp_SVD\u001b[0m\u001b[0;34m(\u001b[0m\u001b[0mself\u001b[0m\u001b[0;34m.\u001b[0m\u001b[0mvalue\u001b[0m\u001b[0;34m)\u001b[0m\u001b[0;34m\u001b[0m\u001b[0;34m\u001b[0m\u001b[0m\n\u001b[0;32m--> 186\u001b[0;31m             \u001b[0mgates\u001b[0m \u001b[0;34m=\u001b[0m \u001b[0;34m[\u001b[0m\u001b[0mgb\u001b[0m\u001b[0;34m.\u001b[0m\u001b[0marr_to_u3\u001b[0m\u001b[0;34m(\u001b[0m\u001b[0mm\u001b[0m\u001b[0;34m,\u001b[0m \u001b[0mi\u001b[0m\u001b[0;34m)\u001b[0m \u001b[0;32mfor\u001b[0m \u001b[0mi\u001b[0m\u001b[0;34m,\u001b[0m \u001b[0mm\u001b[0m \u001b[0;32min\u001b[0m \u001b[0menumerate\u001b[0m\u001b[0;34m(\u001b[0m\u001b[0mmatrixs\u001b[0m\u001b[0;34m)\u001b[0m\u001b[0;34m]\u001b[0m\u001b[0;34m\u001b[0m\u001b[0;34m\u001b[0m\u001b[0m\n\u001b[0m\u001b[1;32m    187\u001b[0m             \u001b[0;32mif\u001b[0m \u001b[0;32mNone\u001b[0m \u001b[0;32min\u001b[0m \u001b[0mgates\u001b[0m\u001b[0;34m:\u001b[0m\u001b[0;34m\u001b[0m\u001b[0;34m\u001b[0m\u001b[0m\n\u001b[1;32m    188\u001b[0m                 \u001b[0mwarning_out\u001b[0m\u001b[0;34m(\u001b[0m\u001b[0;34m\"Cannot be decomposed to two 1-qubit gates\"\u001b[0m\u001b[0;34m)\u001b[0m\u001b[0;34m\u001b[0m\u001b[0;34m\u001b[0m\u001b[0m\n",
      "\u001b[0;31mAttributeError\u001b[0m: 'GateBuilder' object has no attribute 'arr_to_u3'"
     ]
    }
   ],
   "source": [
    "# take a decomposable door as an example first\n",
    "a = unitary_group.rvs(2)\n",
    "b = unitary_group.rvs(2)\n",
    "G1 = np.kron(a,b)\n",
    "g = Gate(G1, 'G1')\n",
    "g.decompose('two_single')"
   ]
  },
  {
   "cell_type": "code",
   "execution_count": null,
   "metadata": {},
   "outputs": [
    {
     "name": "stdout",
     "output_type": "stream",
     "text": [
      "\u001b[94m[Warn]\u001b[0m Only approximate decomposition\n"
     ]
    }
   ],
   "source": [
    "# use an arbitrary unitary matrix\n",
    "G2 = unitary_group.rvs(4)\n",
    "g = Gate(G2, 'G2')\n",
    "g.decompose('two_single')"
   ]
  },
  {
   "cell_type": "code",
   "execution_count": null,
   "metadata": {},
   "outputs": [
    {
     "name": "stdout",
     "output_type": "stream",
     "text": [
      " 0: 1:\u001b[94m[Warn]\u001b[0m Cannot be decomposed to two 1-qubit gates\n",
      " 2:\u001b[94m[Warn]\u001b[0m Cannot be decomposed to two 1-qubit gates\n",
      " 3:\u001b[94m[Warn]\u001b[0m Cannot be decomposed to two 1-qubit gates\n",
      " 4:\u001b[94m[Warn]\u001b[0m Cannot be decomposed to two 1-qubit gates\n",
      " 5:\u001b[94m[Warn]\u001b[0m Cannot be decomposed to two 1-qubit gates\n",
      " 6:\u001b[94m[Warn]\u001b[0m Cannot be decomposed to two 1-qubit gates\n",
      " 7: 8:\u001b[94m[Warn]\u001b[0m Cannot be decomposed to two 1-qubit gates\n",
      " 9:\u001b[94m[Warn]\u001b[0m Cannot be decomposed to two 1-qubit gates\n",
      "10:\u001b[94m[Warn]\u001b[0m Cannot be decomposed to two 1-qubit gates\n",
      "11:\u001b[94m[Warn]\u001b[0m Cannot be decomposed to two 1-qubit gates\n",
      "12:\u001b[94m[Warn]\u001b[0m Cannot be decomposed to two 1-qubit gates\n",
      "13:\u001b[94m[Warn]\u001b[0m Cannot be decomposed to two 1-qubit gates\n",
      "14:\u001b[94m[Warn]\u001b[0m Cannot be decomposed to two 1-qubit gates\n",
      "15:\u001b[94m[Warn]\u001b[0m Cannot be decomposed to two 1-qubit gates\n",
      "16:17:\u001b[94m[Warn]\u001b[0m Cannot be decomposed to two 1-qubit gates\n",
      "18:\u001b[94m[Warn]\u001b[0m Cannot be decomposed to two 1-qubit gates\n",
      "19:\u001b[94m[Warn]\u001b[0m Cannot be decomposed to two 1-qubit gates\n",
      "20:\u001b[94m[Warn]\u001b[0m Cannot be decomposed to two 1-qubit gates\n",
      "21:\u001b[94m[Warn]\u001b[0m Cannot be decomposed to two 1-qubit gates\n",
      "22:\u001b[94m[Warn]\u001b[0m Cannot be decomposed to two 1-qubit gates\n",
      "23:"
     ]
    }
   ],
   "source": [
    "# test all 0-1 unitary matrix\n",
    "inputs = generate_input()\n",
    "for i, m in enumerate(inputs):\n",
    "    print(\"%2d\" % i, end=':')\n",
    "    g = Gate(m, 'M')\n",
    "    g.decompose('two_single')"
   ]
  },
  {
   "cell_type": "markdown",
   "metadata": {},
   "source": [
    "### 2. Check if the input two-qubit gate is a SWAP gate"
   ]
  },
  {
   "cell_type": "code",
   "execution_count": null,
   "metadata": {},
   "outputs": [
    {
     "name": "stdout",
     "output_type": "stream",
     "text": [
      "False\n",
      "True\n"
     ]
    }
   ],
   "source": [
    "X1 = np.eye(4)\n",
    "X2 = X1[:,[0,2,1,3]]\n",
    "g1 = Gate(X1, 'X1')\n",
    "g2 = Gate(X2, 'X2')\n",
    "print(g1.is_swap())\n",
    "print(g2.is_swap())"
   ]
  },
  {
   "cell_type": "markdown",
   "metadata": {},
   "source": [
    "### 3. Detect if the input two-qubit gate is a Control-U gate\n",
    "Single-qubit gates are represented in the form of U3 gates"
   ]
  },
  {
   "cell_type": "code",
   "execution_count": null,
   "metadata": {},
   "outputs": [
    {
     "name": "stdout",
     "output_type": "stream",
     "text": [
      "                                                                       ┌───────────┐\n",
      "q0:──────────────o───────────────────────────o─────────────────────────┤ Rz(-1.37) ├\n",
      "                 │                           │                         └───────────┘\n",
      "   ┌──────────┐  │  ┌─────────────────────┐  │  ┌─────────────────────┐             \n",
      "q1:┤ Rz(1.05) ├─(+)─┤ U3(-3.14,0.68,0.99) ├─(+)─┤ U3(1.10,0.68,-0.00) ├─────────────\n",
      "   └──────────┘     └─────────────────────┘     └─────────────────────┘             \n"
     ]
    }
   ],
   "source": [
    "# construct a control-u\n",
    "b = np.eye(4) * (1+0j)\n",
    "a = unitary_group.rvs(2)\n",
    "b[2:, 2:] = a\n",
    "\n",
    "# decompose and print\n",
    "g = Gate(b, 'G')\n",
    "g.decompose('control_u')\n",
    "g.print_gates()"
   ]
  },
  {
   "cell_type": "code",
   "execution_count": null,
   "metadata": {},
   "outputs": [
    {
     "name": "stdout",
     "output_type": "stream",
     "text": [
      "   ┌─────────────────────┐                           ┌────────────────────┐                           ┌────────────────────┐                           ┌─────────────────────┐                        \n",
      "q0:┤ U3(-2.11,0.83,0.51) ├────────────────────────o──┤ U3(2.99,1.57,3.14) ├────────────────────────o──┤ U3(0.00,1.57,3.14) ├────────────────────────o──┤ U3(-3.32,1.73,2.24) ├────────────────────────\n",
      "   └─────────────────────┘                        │  └────────────────────┘                        │  └────────────────────┘                        │  └─────────────────────┘                        \n",
      "                          ┌────────────────────┐  │                        ┌────────────────────┐  │                        ┌────────────────────┐  │                         ┌──────────────────────┐\n",
      "q1:───────────────────────┤ U3(1.85,0.87,3.72) ├─(+)───────────────────────┤ U3(0.65,0.00,0.65) ├─(+)───────────────────────┤ U3(0.04,0.00,0.04) ├─(+)────────────────────────┤ U3(-1.39,2.68,-4.17) ├\n",
      "                          └────────────────────┘                           └────────────────────┘                           └────────────────────┘                            └──────────────────────┘\n"
     ]
    }
   ],
   "source": [
    "a = unitary_group.rvs(4)\n",
    "g = Gate(a, 'G')\n",
    "g.decompose()\n",
    "g.print_gates()"
   ]
  }
 ],
 "metadata": {
  "interpreter": {
   "hash": "849b4e5907479c032f60aa4356d61ba3b06690fe07dc4a387bac6d5596bb2a76"
  },
  "kernelspec": {
   "display_name": "Python 3.6.5 64-bit ('pytorch': conda)",
   "language": "python",
   "name": "python3"
  },
  "language_info": {
   "codemirror_mode": {
    "name": "ipython",
    "version": 3
   },
   "file_extension": ".py",
   "mimetype": "text/x-python",
   "name": "python",
   "nbconvert_exporter": "python",
   "pygments_lexer": "ipython3",
   "version": "3.6.13"
  },
  "orig_nbformat": 4
 },
 "nbformat": 4,
 "nbformat_minor": 2
}
